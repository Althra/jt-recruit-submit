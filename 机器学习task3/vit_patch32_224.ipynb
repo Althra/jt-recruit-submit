{
 "cells": [
  {
   "cell_type": "code",
   "execution_count": 9,
   "id": "54c46656-e4a9-4c30-ab32-bf9e8cf4497a",
   "metadata": {
    "ExecutionIndicator": {
     "show": true
    },
    "execution": {
     "iopub.execute_input": "2024-10-23T04:51:14.221741Z",
     "iopub.status.busy": "2024-10-23T04:51:14.221401Z",
     "iopub.status.idle": "2024-10-23T04:51:14.225969Z",
     "shell.execute_reply": "2024-10-23T04:51:14.225223Z",
     "shell.execute_reply.started": "2024-10-23T04:51:14.221720Z"
    },
    "tags": []
   },
   "outputs": [],
   "source": [
    "import torch\n",
    "import torch.nn as nn\n",
    "import torch.optim as optim\n",
    "from torch.utils.data import DataLoader\n",
    "import torchvision.transforms as transforms\n",
    "import torchvision.datasets as datasets\n",
    "import timm\n",
    "from timm.models.vision_transformer import VisionTransformer"
   ]
  },
  {
   "cell_type": "code",
   "execution_count": 10,
   "id": "b3c21074-9dfc-4b83-9b44-95a6b15c9352",
   "metadata": {
    "ExecutionIndicator": {
     "show": true
    },
    "execution": {
     "iopub.execute_input": "2024-10-23T04:51:15.279143Z",
     "iopub.status.busy": "2024-10-23T04:51:15.278791Z",
     "iopub.status.idle": "2024-10-23T04:51:15.283806Z",
     "shell.execute_reply": "2024-10-23T04:51:15.283066Z",
     "shell.execute_reply.started": "2024-10-23T04:51:15.279122Z"
    },
    "tags": []
   },
   "outputs": [],
   "source": [
    "transform = transforms.Compose([\n",
    "        transforms.Resize((224, 224)),\n",
    "        transforms.ToTensor(),\n",
    "        transforms.Normalize((0.5, 0.5, 0.5), (0.5, 0.5, 0.5)),\n",
    "    ])"
   ]
  },
  {
   "cell_type": "code",
   "execution_count": 11,
   "id": "f1a6d866-deb1-4041-9398-0d9079706057",
   "metadata": {
    "ExecutionIndicator": {
     "show": true
    },
    "execution": {
     "iopub.execute_input": "2024-10-23T04:51:16.810207Z",
     "iopub.status.busy": "2024-10-23T04:51:16.809887Z",
     "iopub.status.idle": "2024-10-23T04:51:17.070471Z",
     "shell.execute_reply": "2024-10-23T04:51:17.069815Z",
     "shell.execute_reply.started": "2024-10-23T04:51:16.810190Z"
    },
    "tags": []
   },
   "outputs": [],
   "source": [
    "model = VisionTransformer(\n",
    "            img_size=224,\n",
    "            patch_size=32,\n",
    "            embed_dim=384,\n",
    "            depth=12,\n",
    "            num_heads=6,\n",
    "            num_classes=10\n",
    "        )"
   ]
  },
  {
   "cell_type": "code",
   "execution_count": 12,
   "id": "899fa748-794c-48af-99a2-314f4ce05d7a",
   "metadata": {
    "ExecutionIndicator": {
     "show": true
    },
    "execution": {
     "iopub.execute_input": "2024-10-23T04:51:18.029643Z",
     "iopub.status.busy": "2024-10-23T04:51:18.029321Z",
     "iopub.status.idle": "2024-10-23T04:51:18.789083Z",
     "shell.execute_reply": "2024-10-23T04:51:18.788525Z",
     "shell.execute_reply.started": "2024-10-23T04:51:18.029625Z"
    },
    "tags": []
   },
   "outputs": [],
   "source": [
    "# 加载训练和测试数据集\n",
    "train_dataset = datasets.CIFAR10(root='./datasets/cifar10/', train=True, download=False, transform=transform)\n",
    "test_dataset = datasets.CIFAR10(root='./datasets/cifar10/', train=False, download=False, transform=transform)\n",
    "\n",
    "train_loader = DataLoader(train_dataset, batch_size=256, shuffle=True, num_workers=8, pin_memory=True)\n",
    "test_loader = DataLoader(test_dataset, batch_size=256, shuffle=False, num_workers=8, pin_memory=True)"
   ]
  },
  {
   "cell_type": "code",
   "execution_count": 13,
   "id": "c609ccfc-8a49-4ba3-b546-18db3f3c6517",
   "metadata": {
    "execution": {
     "iopub.execute_input": "2024-10-23T04:51:20.047384Z",
     "iopub.status.busy": "2024-10-23T04:51:20.047031Z",
     "iopub.status.idle": "2024-10-23T04:51:20.066881Z",
     "shell.execute_reply": "2024-10-23T04:51:20.066327Z",
     "shell.execute_reply.started": "2024-10-23T04:51:20.047365Z"
    },
    "tags": []
   },
   "outputs": [],
   "source": [
    "device = torch.device(\"cuda\" if torch.cuda.is_available() else \"cpu\")\n",
    "model = model.to(device)"
   ]
  },
  {
   "cell_type": "code",
   "execution_count": 14,
   "id": "fd38c952-caf3-4527-97f4-b49f281ab815",
   "metadata": {
    "execution": {
     "iopub.execute_input": "2024-10-23T04:51:21.952140Z",
     "iopub.status.busy": "2024-10-23T04:51:21.951812Z",
     "iopub.status.idle": "2024-10-23T04:51:21.957631Z",
     "shell.execute_reply": "2024-10-23T04:51:21.957046Z",
     "shell.execute_reply.started": "2024-10-23T04:51:21.952122Z"
    },
    "tags": []
   },
   "outputs": [],
   "source": [
    "criterion = nn.CrossEntropyLoss()\n",
    "optimizer = optim.Adam(model.parameters(), lr=0.0001)"
   ]
  },
  {
   "cell_type": "code",
   "execution_count": 15,
   "id": "776d4d32-70a4-4f05-a1a7-c49b48a2817f",
   "metadata": {
    "execution": {
     "iopub.execute_input": "2024-10-23T04:51:23.437094Z",
     "iopub.status.busy": "2024-10-23T04:51:23.436731Z",
     "iopub.status.idle": "2024-10-23T04:51:23.443387Z",
     "shell.execute_reply": "2024-10-23T04:51:23.442813Z",
     "shell.execute_reply.started": "2024-10-23T04:51:23.437073Z"
    },
    "tags": []
   },
   "outputs": [],
   "source": [
    "def train_model(model, train_loader, criterion, optimizer, device, num_epochs=10):\n",
    "    model.train()\n",
    "    for epoch in range(num_epochs):\n",
    "        running_loss = 0.0\n",
    "        for i, (images, labels) in enumerate(train_loader):\n",
    "            images, labels = images.to(device), labels.to(device)\n",
    "            \n",
    "            # 前向传播\n",
    "            outputs = model(images)\n",
    "            loss = criterion(outputs, labels)\n",
    "            \n",
    "            # 反向传播和优化\n",
    "            optimizer.zero_grad()\n",
    "            loss.backward()\n",
    "            optimizer.step()\n",
    "            \n",
    "            running_loss += loss.item()\n",
    "            \n",
    "            if (i + 1) % 100 == 0:\n",
    "                print(f'Epoch [{epoch+1}/{num_epochs}], Step [{i+1}/{len(train_loader)}], Loss: {loss.item():.4f}')\n",
    "            \n",
    "        \n",
    "        print(f\"Epoch [{epoch+1}/{num_epochs}], Loss: {running_loss/len(train_loader):.4f}\")\n",
    "        test_model(model, test_loader, device)\n",
    "        model.train()\n",
    "\n",
    "def test_model(model, test_loader, device):\n",
    "    model.eval()\n",
    "    correct = 0\n",
    "    total = 0\n",
    "    with torch.no_grad():\n",
    "        for images, labels in test_loader:\n",
    "            images, labels = images.to(device), labels.to(device)\n",
    "            outputs = model(images)\n",
    "            _, predicted = torch.max(outputs.data, 1)\n",
    "            total += labels.size(0)\n",
    "            correct += (predicted == labels).sum().item()\n",
    "\n",
    "    accuracy = 100 * correct / total\n",
    "    print(f'Test Accuracy: {accuracy:.2f}%')"
   ]
  },
  {
   "cell_type": "code",
   "execution_count": 16,
   "id": "4dedd9e2-73a0-4599-af47-aac24ca9e4cb",
   "metadata": {
    "execution": {
     "iopub.execute_input": "2024-10-23T04:51:41.066865Z",
     "iopub.status.busy": "2024-10-23T04:51:41.066533Z",
     "iopub.status.idle": "2024-10-23T05:10:29.745408Z",
     "shell.execute_reply": "2024-10-23T05:10:29.744266Z",
     "shell.execute_reply.started": "2024-10-23T04:51:41.066846Z"
    },
    "tags": []
   },
   "outputs": [
    {
     "name": "stdout",
     "output_type": "stream",
     "text": [
      "Epoch [1/50], Step [100/196], Loss: 1.8989\n",
      "Epoch [1/50], Loss: 1.8007\n",
      "Test Accuracy: 38.68%\n",
      "Epoch [2/50], Step [100/196], Loss: 1.5655\n",
      "Epoch [2/50], Loss: 1.5458\n",
      "Test Accuracy: 45.99%\n",
      "Epoch [3/50], Step [100/196], Loss: 1.4332\n",
      "Epoch [3/50], Loss: 1.3836\n",
      "Test Accuracy: 49.80%\n",
      "Epoch [4/50], Step [100/196], Loss: 1.2335\n",
      "Epoch [4/50], Loss: 1.2740\n",
      "Test Accuracy: 51.18%\n",
      "Epoch [5/50], Step [100/196], Loss: 1.0467\n",
      "Epoch [5/50], Loss: 1.1717\n",
      "Test Accuracy: 52.58%\n",
      "Epoch [6/50], Step [100/196], Loss: 1.0237\n",
      "Epoch [6/50], Loss: 1.0882\n",
      "Test Accuracy: 57.42%\n",
      "Epoch [7/50], Step [100/196], Loss: 0.8496\n",
      "Epoch [7/50], Loss: 1.0033\n",
      "Test Accuracy: 60.06%\n",
      "Epoch [8/50], Step [100/196], Loss: 0.8872\n",
      "Epoch [8/50], Loss: 0.9301\n",
      "Test Accuracy: 62.80%\n",
      "Epoch [9/50], Step [100/196], Loss: 0.7402\n",
      "Epoch [9/50], Loss: 0.8521\n",
      "Test Accuracy: 62.78%\n",
      "Epoch [10/50], Step [100/196], Loss: 0.6923\n",
      "Epoch [10/50], Loss: 0.7905\n",
      "Test Accuracy: 63.95%\n",
      "Epoch [11/50], Step [100/196], Loss: 0.7881\n",
      "Epoch [11/50], Loss: 0.7259\n",
      "Test Accuracy: 64.12%\n",
      "Epoch [12/50], Step [100/196], Loss: 0.6334\n",
      "Epoch [12/50], Loss: 0.6490\n",
      "Test Accuracy: 64.87%\n",
      "Epoch [13/50], Step [100/196], Loss: 0.6081\n",
      "Epoch [13/50], Loss: 0.5789\n",
      "Test Accuracy: 64.30%\n",
      "Epoch [14/50], Step [100/196], Loss: 0.5770\n",
      "Epoch [14/50], Loss: 0.5160\n",
      "Test Accuracy: 65.47%\n",
      "Epoch [15/50], Step [100/196], Loss: 0.4818\n",
      "Epoch [15/50], Loss: 0.4377\n",
      "Test Accuracy: 64.48%\n",
      "Epoch [16/50], Step [100/196], Loss: 0.3910\n",
      "Epoch [16/50], Loss: 0.3914\n",
      "Test Accuracy: 65.02%\n",
      "Epoch [17/50], Step [100/196], Loss: 0.2786\n",
      "Epoch [17/50], Loss: 0.3153\n",
      "Test Accuracy: 65.12%\n",
      "Epoch [18/50], Step [100/196], Loss: 0.3517\n",
      "Epoch [18/50], Loss: 0.2700\n",
      "Test Accuracy: 64.23%\n",
      "Epoch [19/50], Step [100/196], Loss: 0.1723\n",
      "Epoch [19/50], Loss: 0.2157\n",
      "Test Accuracy: 64.90%\n",
      "Epoch [20/50], Step [100/196], Loss: 0.2920\n",
      "Epoch [20/50], Loss: 0.1958\n",
      "Test Accuracy: 65.52%\n",
      "Epoch [21/50], Step [100/196], Loss: 0.1557\n",
      "Epoch [21/50], Loss: 0.1510\n",
      "Test Accuracy: 64.73%\n",
      "Epoch [22/50], Step [100/196], Loss: 0.1420\n",
      "Epoch [22/50], Loss: 0.1349\n",
      "Test Accuracy: 64.84%\n",
      "Epoch [23/50], Step [100/196], Loss: 0.0880\n",
      "Epoch [23/50], Loss: 0.1257\n",
      "Test Accuracy: 63.92%\n",
      "Epoch [24/50], Step [100/196], Loss: 0.0844\n",
      "Epoch [24/50], Loss: 0.1153\n",
      "Test Accuracy: 65.12%\n",
      "Epoch [25/50], Step [100/196], Loss: 0.1062\n",
      "Epoch [25/50], Loss: 0.0973\n",
      "Test Accuracy: 63.92%\n"
     ]
    },
    {
     "ename": "KeyboardInterrupt",
     "evalue": "",
     "output_type": "error",
     "traceback": [
      "\u001b[0;31m---------------------------------------------------------------------------\u001b[0m",
      "\u001b[0;31mKeyboardInterrupt\u001b[0m                         Traceback (most recent call last)",
      "Cell \u001b[0;32mIn[16], line 3\u001b[0m\n\u001b[1;32m      1\u001b[0m \u001b[38;5;28;01mimport\u001b[39;00m \u001b[38;5;21;01mtime\u001b[39;00m\n\u001b[1;32m      2\u001b[0m start_time \u001b[38;5;241m=\u001b[39m time\u001b[38;5;241m.\u001b[39mtime()\n\u001b[0;32m----> 3\u001b[0m \u001b[43mtrain_model\u001b[49m\u001b[43m(\u001b[49m\u001b[43mmodel\u001b[49m\u001b[43m,\u001b[49m\u001b[43m \u001b[49m\u001b[43mtrain_loader\u001b[49m\u001b[43m,\u001b[49m\u001b[43m \u001b[49m\u001b[43mcriterion\u001b[49m\u001b[43m,\u001b[49m\u001b[43m \u001b[49m\u001b[43moptimizer\u001b[49m\u001b[43m,\u001b[49m\u001b[43m \u001b[49m\u001b[43mdevice\u001b[49m\u001b[43m,\u001b[49m\u001b[43m \u001b[49m\u001b[43mnum_epochs\u001b[49m\u001b[38;5;241;43m=\u001b[39;49m\u001b[38;5;241;43m50\u001b[39;49m\u001b[43m)\u001b[49m\n\u001b[1;32m      4\u001b[0m end_time \u001b[38;5;241m=\u001b[39m time\u001b[38;5;241m.\u001b[39mtime()\n\u001b[1;32m      5\u001b[0m \u001b[38;5;28mprint\u001b[39m(\u001b[38;5;124mf\u001b[39m\u001b[38;5;124m\"\u001b[39m\u001b[38;5;124mTraining time for ViT32: \u001b[39m\u001b[38;5;132;01m{\u001b[39;00mend_time\u001b[38;5;250m \u001b[39m\u001b[38;5;241m-\u001b[39m\u001b[38;5;250m \u001b[39mstart_time\u001b[38;5;132;01m:\u001b[39;00m\u001b[38;5;124m.2f\u001b[39m\u001b[38;5;132;01m}\u001b[39;00m\u001b[38;5;124m seconds\u001b[39m\u001b[38;5;124m\"\u001b[39m)\n",
      "Cell \u001b[0;32mIn[15], line 17\u001b[0m, in \u001b[0;36mtrain_model\u001b[0;34m(model, train_loader, criterion, optimizer, device, num_epochs)\u001b[0m\n\u001b[1;32m     14\u001b[0m loss\u001b[38;5;241m.\u001b[39mbackward()\n\u001b[1;32m     15\u001b[0m optimizer\u001b[38;5;241m.\u001b[39mstep()\n\u001b[0;32m---> 17\u001b[0m running_loss \u001b[38;5;241m+\u001b[39m\u001b[38;5;241m=\u001b[39m \u001b[43mloss\u001b[49m\u001b[38;5;241;43m.\u001b[39;49m\u001b[43mitem\u001b[49m\u001b[43m(\u001b[49m\u001b[43m)\u001b[49m\n\u001b[1;32m     19\u001b[0m \u001b[38;5;28;01mif\u001b[39;00m (i \u001b[38;5;241m+\u001b[39m \u001b[38;5;241m1\u001b[39m) \u001b[38;5;241m%\u001b[39m \u001b[38;5;241m100\u001b[39m \u001b[38;5;241m==\u001b[39m \u001b[38;5;241m0\u001b[39m:\n\u001b[1;32m     20\u001b[0m     \u001b[38;5;28mprint\u001b[39m(\u001b[38;5;124mf\u001b[39m\u001b[38;5;124m'\u001b[39m\u001b[38;5;124mEpoch [\u001b[39m\u001b[38;5;132;01m{\u001b[39;00mepoch\u001b[38;5;241m+\u001b[39m\u001b[38;5;241m1\u001b[39m\u001b[38;5;132;01m}\u001b[39;00m\u001b[38;5;124m/\u001b[39m\u001b[38;5;132;01m{\u001b[39;00mnum_epochs\u001b[38;5;132;01m}\u001b[39;00m\u001b[38;5;124m], Step [\u001b[39m\u001b[38;5;132;01m{\u001b[39;00mi\u001b[38;5;241m+\u001b[39m\u001b[38;5;241m1\u001b[39m\u001b[38;5;132;01m}\u001b[39;00m\u001b[38;5;124m/\u001b[39m\u001b[38;5;132;01m{\u001b[39;00m\u001b[38;5;28mlen\u001b[39m(train_loader)\u001b[38;5;132;01m}\u001b[39;00m\u001b[38;5;124m], Loss: \u001b[39m\u001b[38;5;132;01m{\u001b[39;00mloss\u001b[38;5;241m.\u001b[39mitem()\u001b[38;5;132;01m:\u001b[39;00m\u001b[38;5;124m.4f\u001b[39m\u001b[38;5;132;01m}\u001b[39;00m\u001b[38;5;124m'\u001b[39m)\n",
      "\u001b[0;31mKeyboardInterrupt\u001b[0m: "
     ]
    }
   ],
   "source": [
    "import time\n",
    "start_time = time.time()\n",
    "train_model(model, train_loader, criterion, optimizer, device, num_epochs=50)\n",
    "end_time = time.time()\n",
    "print(f\"Training time for ViT32: {end_time - start_time:.2f} seconds\")"
   ]
  }
 ],
 "metadata": {
  "kernelspec": {
   "display_name": "Python 3 (ipykernel)",
   "language": "python",
   "name": "python3"
  },
  "language_info": {
   "codemirror_mode": {
    "name": "ipython",
    "version": 3
   },
   "file_extension": ".py",
   "mimetype": "text/x-python",
   "name": "python",
   "nbconvert_exporter": "python",
   "pygments_lexer": "ipython3",
   "version": "3.11.9"
  },
  "share": {
   "datetime": "2024-10-23T05:16:19.313Z",
   "image": {
    "name": "modelscope:1.18.0-pytorch2.3.0-gpu-py310-cu121-ubuntu22.04",
    "url": "dsw-registry-vpc.cn-shanghai.cr.aliyuncs.com/pai/modelscope:1.18.0-pytorch2.3.0-gpu-py310-cu121-ubuntu22.04"
   },
   "instance": "dsw-5f610745446d4cc1",
   "spec": {
    "id": "ecs.gn7i-c8g1.2xlarge",
    "type": "GPU"
   },
   "uid": "1453113336539928"
  }
 },
 "nbformat": 4,
 "nbformat_minor": 5
}
