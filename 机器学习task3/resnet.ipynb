{
 "cells": [
  {
   "cell_type": "code",
   "execution_count": 1,
   "id": "54c46656-e4a9-4c30-ab32-bf9e8cf4497a",
   "metadata": {
    "ExecutionIndicator": {
     "show": true
    },
    "execution": {
     "iopub.execute_input": "2024-10-23T05:11:57.960479Z",
     "iopub.status.busy": "2024-10-23T05:11:57.960161Z",
     "iopub.status.idle": "2024-10-23T05:12:00.303115Z",
     "shell.execute_reply": "2024-10-23T05:12:00.302513Z",
     "shell.execute_reply.started": "2024-10-23T05:11:57.960458Z"
    },
    "tags": []
   },
   "outputs": [],
   "source": [
    "import torch\n",
    "import torch.nn as nn\n",
    "import torch.optim as optim\n",
    "from torch.utils.data import DataLoader\n",
    "import torchvision.transforms as transforms\n",
    "import torchvision.datasets as datasets\n",
    "import timm\n",
    "from timm.models.vision_transformer import VisionTransformer"
   ]
  },
  {
   "cell_type": "code",
   "execution_count": 2,
   "id": "b3c21074-9dfc-4b83-9b44-95a6b15c9352",
   "metadata": {
    "ExecutionIndicator": {
     "show": true
    },
    "execution": {
     "iopub.execute_input": "2024-10-23T05:12:02.842892Z",
     "iopub.status.busy": "2024-10-23T05:12:02.842460Z",
     "iopub.status.idle": "2024-10-23T05:12:02.846901Z",
     "shell.execute_reply": "2024-10-23T05:12:02.846130Z",
     "shell.execute_reply.started": "2024-10-23T05:12:02.842870Z"
    },
    "tags": []
   },
   "outputs": [],
   "source": [
    "transform = transforms.Compose([\n",
    "        transforms.Resize((224, 224)),\n",
    "        transforms.ToTensor(),\n",
    "        transforms.Normalize((0.5, 0.5, 0.5), (0.5, 0.5, 0.5)),\n",
    "    ])"
   ]
  },
  {
   "cell_type": "code",
   "execution_count": 3,
   "id": "f1a6d866-deb1-4041-9398-0d9079706057",
   "metadata": {
    "ExecutionIndicator": {
     "show": true
    },
    "execution": {
     "iopub.execute_input": "2024-10-23T05:12:05.494168Z",
     "iopub.status.busy": "2024-10-23T05:12:05.493825Z",
     "iopub.status.idle": "2024-10-23T05:12:05.624283Z",
     "shell.execute_reply": "2024-10-23T05:12:05.623700Z",
     "shell.execute_reply.started": "2024-10-23T05:12:05.494147Z"
    },
    "tags": []
   },
   "outputs": [],
   "source": [
    "model = timm.create_model('resnet18', pretrained=False, num_classes=10)"
   ]
  },
  {
   "cell_type": "code",
   "execution_count": 4,
   "id": "899fa748-794c-48af-99a2-314f4ce05d7a",
   "metadata": {
    "ExecutionIndicator": {
     "show": true
    },
    "execution": {
     "iopub.execute_input": "2024-10-23T05:12:17.736392Z",
     "iopub.status.busy": "2024-10-23T05:12:17.736043Z",
     "iopub.status.idle": "2024-10-23T05:12:18.515343Z",
     "shell.execute_reply": "2024-10-23T05:12:18.514753Z",
     "shell.execute_reply.started": "2024-10-23T05:12:17.736368Z"
    },
    "tags": []
   },
   "outputs": [],
   "source": [
    "# 加载训练和测试数据集\n",
    "train_dataset = datasets.CIFAR10(root='./datasets/cifar10/', train=True, download=False, transform=transform)\n",
    "test_dataset = datasets.CIFAR10(root='./datasets/cifar10/', train=False, download=False, transform=transform)\n",
    "\n",
    "train_loader = DataLoader(train_dataset, batch_size=256, shuffle=True, num_workers=8, pin_memory=True)\n",
    "test_loader = DataLoader(test_dataset, batch_size=256, shuffle=False, num_workers=8, pin_memory=True)"
   ]
  },
  {
   "cell_type": "code",
   "execution_count": 5,
   "id": "c609ccfc-8a49-4ba3-b546-18db3f3c6517",
   "metadata": {
    "execution": {
     "iopub.execute_input": "2024-10-23T05:12:21.800270Z",
     "iopub.status.busy": "2024-10-23T05:12:21.799912Z",
     "iopub.status.idle": "2024-10-23T05:12:23.624605Z",
     "shell.execute_reply": "2024-10-23T05:12:23.623972Z",
     "shell.execute_reply.started": "2024-10-23T05:12:21.800250Z"
    },
    "tags": []
   },
   "outputs": [],
   "source": [
    "device = torch.device(\"cuda\" if torch.cuda.is_available() else \"cpu\")\n",
    "model = model.to(device)"
   ]
  },
  {
   "cell_type": "code",
   "execution_count": 6,
   "id": "fd38c952-caf3-4527-97f4-b49f281ab815",
   "metadata": {
    "execution": {
     "iopub.execute_input": "2024-10-23T05:12:43.212896Z",
     "iopub.status.busy": "2024-10-23T05:12:43.212570Z",
     "iopub.status.idle": "2024-10-23T05:12:43.216694Z",
     "shell.execute_reply": "2024-10-23T05:12:43.216003Z",
     "shell.execute_reply.started": "2024-10-23T05:12:43.212877Z"
    },
    "tags": []
   },
   "outputs": [],
   "source": [
    "criterion = nn.CrossEntropyLoss()\n",
    "optimizer = optim.Adam(model.parameters(), lr=0.0001)"
   ]
  },
  {
   "cell_type": "code",
   "execution_count": 7,
   "id": "776d4d32-70a4-4f05-a1a7-c49b48a2817f",
   "metadata": {
    "execution": {
     "iopub.execute_input": "2024-10-23T05:12:52.312152Z",
     "iopub.status.busy": "2024-10-23T05:12:52.311807Z",
     "iopub.status.idle": "2024-10-23T05:12:52.319434Z",
     "shell.execute_reply": "2024-10-23T05:12:52.318641Z",
     "shell.execute_reply.started": "2024-10-23T05:12:52.312134Z"
    },
    "tags": []
   },
   "outputs": [],
   "source": [
    "def train_model(model, train_loader, criterion, optimizer, device, num_epochs=10):\n",
    "    model.train()\n",
    "    for epoch in range(num_epochs):\n",
    "        running_loss = 0.0\n",
    "        for i, (images, labels) in enumerate(train_loader):\n",
    "            images, labels = images.to(device), labels.to(device)\n",
    "            \n",
    "            # 前向传播\n",
    "            outputs = model(images)\n",
    "            loss = criterion(outputs, labels)\n",
    "            \n",
    "            # 反向传播和优化\n",
    "            optimizer.zero_grad()\n",
    "            loss.backward()\n",
    "            optimizer.step()\n",
    "            \n",
    "            running_loss += loss.item()\n",
    "            \n",
    "            if (i + 1) % 100 == 0:\n",
    "                print(f'Epoch [{epoch+1}/{num_epochs}], Step [{i+1}/{len(train_loader)}], Loss: {loss.item():.4f}')\n",
    "            \n",
    "        \n",
    "        print(f\"Epoch [{epoch+1}/{num_epochs}], Loss: {running_loss/len(train_loader):.4f}\")\n",
    "        test_model(model, test_loader, device)\n",
    "        model.train()\n",
    "\n",
    "def test_model(model, test_loader, device):\n",
    "    model.eval()\n",
    "    correct = 0\n",
    "    total = 0\n",
    "    with torch.no_grad():\n",
    "        for images, labels in test_loader:\n",
    "            images, labels = images.to(device), labels.to(device)\n",
    "            outputs = model(images)\n",
    "            _, predicted = torch.max(outputs.data, 1)\n",
    "            total += labels.size(0)\n",
    "            correct += (predicted == labels).sum().item()\n",
    "\n",
    "    accuracy = 100 * correct / total\n",
    "    print(f'Test Accuracy: {accuracy:.2f}%')"
   ]
  },
  {
   "cell_type": "code",
   "execution_count": 8,
   "id": "4dedd9e2-73a0-4599-af47-aac24ca9e4cb",
   "metadata": {
    "execution": {
     "iopub.execute_input": "2024-10-23T05:13:09.704955Z",
     "iopub.status.busy": "2024-10-23T05:13:09.704611Z",
     "iopub.status.idle": "2024-10-23T05:55:28.874081Z",
     "shell.execute_reply": "2024-10-23T05:55:28.873390Z",
     "shell.execute_reply.started": "2024-10-23T05:13:09.704928Z"
    },
    "tags": []
   },
   "outputs": [
    {
     "name": "stdout",
     "output_type": "stream",
     "text": [
      "Epoch [1/50], Step [100/196], Loss: 1.9446\n",
      "Epoch [1/50], Loss: 1.9329\n",
      "Test Accuracy: 39.14%\n",
      "Epoch [2/50], Step [100/196], Loss: 1.5798\n",
      "Epoch [2/50], Loss: 1.5839\n",
      "Test Accuracy: 47.89%\n",
      "Epoch [3/50], Step [100/196], Loss: 1.3322\n",
      "Epoch [3/50], Loss: 1.3266\n",
      "Test Accuracy: 55.05%\n",
      "Epoch [4/50], Step [100/196], Loss: 1.1083\n",
      "Epoch [4/50], Loss: 1.1571\n",
      "Test Accuracy: 58.10%\n",
      "Epoch [5/50], Step [100/196], Loss: 1.0827\n",
      "Epoch [5/50], Loss: 1.0417\n",
      "Test Accuracy: 62.94%\n",
      "Epoch [6/50], Step [100/196], Loss: 0.9967\n",
      "Epoch [6/50], Loss: 0.9379\n",
      "Test Accuracy: 65.08%\n",
      "Epoch [7/50], Step [100/196], Loss: 0.8995\n",
      "Epoch [7/50], Loss: 0.8517\n",
      "Test Accuracy: 67.21%\n",
      "Epoch [8/50], Step [100/196], Loss: 0.7504\n",
      "Epoch [8/50], Loss: 0.7831\n",
      "Test Accuracy: 65.60%\n",
      "Epoch [9/50], Step [100/196], Loss: 0.6475\n",
      "Epoch [9/50], Loss: 0.7137\n",
      "Test Accuracy: 70.14%\n",
      "Epoch [10/50], Step [100/196], Loss: 0.6990\n",
      "Epoch [10/50], Loss: 0.6514\n",
      "Test Accuracy: 68.14%\n",
      "Epoch [11/50], Step [100/196], Loss: 0.6079\n",
      "Epoch [11/50], Loss: 0.5927\n",
      "Test Accuracy: 72.61%\n",
      "Epoch [12/50], Step [100/196], Loss: 0.6339\n",
      "Epoch [12/50], Loss: 0.5293\n",
      "Test Accuracy: 72.33%\n",
      "Epoch [13/50], Step [100/196], Loss: 0.4680\n",
      "Epoch [13/50], Loss: 0.4753\n",
      "Test Accuracy: 73.31%\n",
      "Epoch [14/50], Step [100/196], Loss: 0.4974\n",
      "Epoch [14/50], Loss: 0.4178\n",
      "Test Accuracy: 72.26%\n",
      "Epoch [15/50], Step [100/196], Loss: 0.3369\n",
      "Epoch [15/50], Loss: 0.3585\n",
      "Test Accuracy: 69.35%\n",
      "Epoch [16/50], Step [100/196], Loss: 0.2960\n",
      "Epoch [16/50], Loss: 0.3023\n",
      "Test Accuracy: 72.90%\n",
      "Epoch [17/50], Step [100/196], Loss: 0.2338\n",
      "Epoch [17/50], Loss: 0.2442\n",
      "Test Accuracy: 75.13%\n",
      "Epoch [18/50], Step [100/196], Loss: 0.1974\n",
      "Epoch [18/50], Loss: 0.1992\n",
      "Test Accuracy: 72.93%\n",
      "Epoch [19/50], Step [100/196], Loss: 0.1403\n",
      "Epoch [19/50], Loss: 0.1607\n",
      "Test Accuracy: 75.96%\n",
      "Epoch [20/50], Step [100/196], Loss: 0.1323\n",
      "Epoch [20/50], Loss: 0.1109\n",
      "Test Accuracy: 73.25%\n",
      "Epoch [21/50], Step [100/196], Loss: 0.0849\n",
      "Epoch [21/50], Loss: 0.0865\n",
      "Test Accuracy: 73.24%\n",
      "Epoch [22/50], Step [100/196], Loss: 0.0551\n",
      "Epoch [22/50], Loss: 0.0642\n",
      "Test Accuracy: 76.93%\n",
      "Epoch [23/50], Step [100/196], Loss: 0.0446\n",
      "Epoch [23/50], Loss: 0.0460\n",
      "Test Accuracy: 77.23%\n",
      "Epoch [24/50], Step [100/196], Loss: 0.0465\n",
      "Epoch [24/50], Loss: 0.0372\n",
      "Test Accuracy: 76.29%\n",
      "Epoch [25/50], Step [100/196], Loss: 0.0171\n",
      "Epoch [25/50], Loss: 0.0270\n",
      "Test Accuracy: 73.49%\n",
      "Epoch [26/50], Step [100/196], Loss: 0.0265\n",
      "Epoch [26/50], Loss: 0.0240\n",
      "Test Accuracy: 75.73%\n",
      "Epoch [27/50], Step [100/196], Loss: 0.0242\n",
      "Epoch [27/50], Loss: 0.0248\n",
      "Test Accuracy: 73.17%\n",
      "Epoch [28/50], Step [100/196], Loss: 0.0409\n",
      "Epoch [28/50], Loss: 0.0443\n",
      "Test Accuracy: 68.75%\n",
      "Epoch [29/50], Step [100/196], Loss: 0.0327\n",
      "Epoch [29/50], Loss: 0.0400\n",
      "Test Accuracy: 71.70%\n",
      "Epoch [30/50], Step [100/196], Loss: 0.0679\n",
      "Epoch [30/50], Loss: 0.0311\n",
      "Test Accuracy: 72.93%\n",
      "Epoch [31/50], Step [100/196], Loss: 0.0172\n",
      "Epoch [31/50], Loss: 0.0190\n",
      "Test Accuracy: 76.71%\n",
      "Epoch [32/50], Step [100/196], Loss: 0.0061\n",
      "Epoch [32/50], Loss: 0.0060\n",
      "Test Accuracy: 78.76%\n",
      "Epoch [33/50], Step [100/196], Loss: 0.0020\n",
      "Epoch [33/50], Loss: 0.0027\n",
      "Test Accuracy: 78.81%\n",
      "Epoch [34/50], Step [100/196], Loss: 0.0026\n",
      "Epoch [34/50], Loss: 0.0022\n",
      "Test Accuracy: 78.56%\n",
      "Epoch [35/50], Step [100/196], Loss: 0.0020\n",
      "Epoch [35/50], Loss: 0.0019\n",
      "Test Accuracy: 79.18%\n",
      "Epoch [36/50], Step [100/196], Loss: 0.0011\n",
      "Epoch [36/50], Loss: 0.0014\n",
      "Test Accuracy: 79.11%\n",
      "Epoch [37/50], Step [100/196], Loss: 0.0022\n",
      "Epoch [37/50], Loss: 0.0274\n",
      "Test Accuracy: 54.12%\n",
      "Epoch [38/50], Step [100/196], Loss: 0.1331\n",
      "Epoch [38/50], Loss: 0.1362\n",
      "Test Accuracy: 72.12%\n",
      "Epoch [39/50], Step [100/196], Loss: 0.0298\n",
      "Epoch [39/50], Loss: 0.0248\n",
      "Test Accuracy: 77.55%\n",
      "Epoch [40/50], Step [100/196], Loss: 0.0076\n",
      "Epoch [40/50], Loss: 0.0125\n",
      "Test Accuracy: 78.66%\n",
      "Epoch [41/50], Step [100/196], Loss: 0.0027\n",
      "Epoch [41/50], Loss: 0.0026\n",
      "Test Accuracy: 79.02%\n",
      "Epoch [42/50], Step [100/196], Loss: 0.0016\n",
      "Epoch [42/50], Loss: 0.0015\n",
      "Test Accuracy: 79.17%\n",
      "Epoch [43/50], Step [100/196], Loss: 0.0011\n",
      "Epoch [43/50], Loss: 0.0012\n",
      "Test Accuracy: 79.22%\n",
      "Epoch [44/50], Step [100/196], Loss: 0.0009\n",
      "Epoch [44/50], Loss: 0.0009\n",
      "Test Accuracy: 79.20%\n",
      "Epoch [45/50], Step [100/196], Loss: 0.0008\n",
      "Epoch [45/50], Loss: 0.0008\n",
      "Test Accuracy: 79.25%\n",
      "Epoch [46/50], Step [100/196], Loss: 0.0007\n",
      "Epoch [46/50], Loss: 0.0007\n",
      "Test Accuracy: 79.24%\n",
      "Epoch [47/50], Step [100/196], Loss: 0.0005\n",
      "Epoch [47/50], Loss: 0.0006\n",
      "Test Accuracy: 79.36%\n",
      "Epoch [48/50], Step [100/196], Loss: 0.0006\n",
      "Epoch [48/50], Loss: 0.0008\n",
      "Test Accuracy: 78.76%\n",
      "Epoch [49/50], Step [100/196], Loss: 0.0004\n",
      "Epoch [49/50], Loss: 0.0006\n",
      "Test Accuracy: 79.09%\n",
      "Epoch [50/50], Step [100/196], Loss: 0.0006\n",
      "Epoch [50/50], Loss: 0.0005\n",
      "Test Accuracy: 79.06%\n",
      "Training time for ResNet18: 2539.17 seconds\n"
     ]
    }
   ],
   "source": [
    "import time\n",
    "start_time = time.time()\n",
    "train_model(model, train_loader, criterion, optimizer, device, num_epochs=50)\n",
    "end_time = time.time()\n",
    "print(f\"Training time for ResNet18: {end_time - start_time:.2f} seconds\")"
   ]
  }
 ],
 "metadata": {
  "kernelspec": {
   "display_name": "Python 3 (ipykernel)",
   "language": "python",
   "name": "python3"
  },
  "language_info": {
   "codemirror_mode": {
    "name": "ipython",
    "version": 3
   },
   "file_extension": ".py",
   "mimetype": "text/x-python",
   "name": "python",
   "nbconvert_exporter": "python",
   "pygments_lexer": "ipython3",
   "version": "3.10.14"
  }
 },
 "nbformat": 4,
 "nbformat_minor": 5
}
