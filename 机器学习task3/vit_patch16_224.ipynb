{
 "cells": [
  {
   "cell_type": "code",
   "execution_count": 1,
   "id": "54c46656-e4a9-4c30-ab32-bf9e8cf4497a",
   "metadata": {
    "ExecutionIndicator": {
     "show": true
    },
    "execution": {
     "iopub.execute_input": "2024-10-23T04:50:49.381253Z",
     "iopub.status.busy": "2024-10-23T04:50:49.380819Z",
     "iopub.status.idle": "2024-10-23T04:50:51.284971Z",
     "shell.execute_reply": "2024-10-23T04:50:51.284496Z",
     "shell.execute_reply.started": "2024-10-23T04:50:49.381234Z"
    },
    "tags": []
   },
   "outputs": [],
   "source": [
    "import torch\n",
    "import torch.nn as nn\n",
    "import torch.optim as optim\n",
    "from torch.utils.data import DataLoader\n",
    "import torchvision.transforms as transforms\n",
    "import torchvision.datasets as datasets\n",
    "import timm\n",
    "from timm.models.vision_transformer import VisionTransformer"
   ]
  },
  {
   "cell_type": "code",
   "execution_count": 2,
   "id": "b3c21074-9dfc-4b83-9b44-95a6b15c9352",
   "metadata": {
    "ExecutionIndicator": {
     "show": true
    },
    "execution": {
     "iopub.execute_input": "2024-10-23T04:50:51.290225Z",
     "iopub.status.busy": "2024-10-23T04:50:51.290075Z",
     "iopub.status.idle": "2024-10-23T04:50:51.293054Z",
     "shell.execute_reply": "2024-10-23T04:50:51.292608Z",
     "shell.execute_reply.started": "2024-10-23T04:50:51.290211Z"
    },
    "tags": []
   },
   "outputs": [],
   "source": [
    "transform = transforms.Compose([\n",
    "        transforms.Resize((224, 224)),\n",
    "        transforms.ToTensor(),\n",
    "        transforms.Normalize((0.5, 0.5, 0.5), (0.5, 0.5, 0.5)),\n",
    "    ])"
   ]
  },
  {
   "cell_type": "code",
   "execution_count": 3,
   "id": "f1a6d866-deb1-4041-9398-0d9079706057",
   "metadata": {
    "execution": {
     "iopub.execute_input": "2024-10-23T04:50:51.293792Z",
     "iopub.status.busy": "2024-10-23T04:50:51.293642Z",
     "iopub.status.idle": "2024-10-23T04:50:51.541314Z",
     "shell.execute_reply": "2024-10-23T04:50:51.540774Z",
     "shell.execute_reply.started": "2024-10-23T04:50:51.293778Z"
    },
    "tags": []
   },
   "outputs": [],
   "source": [
    "model = VisionTransformer(\n",
    "            img_size=224,\n",
    "            patch_size=16,\n",
    "            embed_dim=384,\n",
    "            depth=12,\n",
    "            num_heads=6,\n",
    "            num_classes=10\n",
    "        )"
   ]
  },
  {
   "cell_type": "code",
   "execution_count": 4,
   "id": "899fa748-794c-48af-99a2-314f4ce05d7a",
   "metadata": {
    "ExecutionIndicator": {
     "show": true
    },
    "execution": {
     "iopub.execute_input": "2024-10-23T04:50:51.543764Z",
     "iopub.status.busy": "2024-10-23T04:50:51.543571Z",
     "iopub.status.idle": "2024-10-23T04:50:52.294651Z",
     "shell.execute_reply": "2024-10-23T04:50:52.294165Z",
     "shell.execute_reply.started": "2024-10-23T04:50:51.543748Z"
    },
    "tags": []
   },
   "outputs": [],
   "source": [
    "# 加载训练和测试数据集\n",
    "train_dataset = datasets.CIFAR10(root='./datasets/cifar10/', train=True, download=False, transform=transform)\n",
    "test_dataset = datasets.CIFAR10(root='./datasets/cifar10/', train=False, download=False, transform=transform)\n",
    "\n",
    "train_loader = DataLoader(train_dataset, batch_size=256, shuffle=True, num_workers=8, pin_memory=True)\n",
    "test_loader = DataLoader(test_dataset, batch_size=256, shuffle=False, num_workers=8, pin_memory=True)"
   ]
  },
  {
   "cell_type": "code",
   "execution_count": 5,
   "id": "c609ccfc-8a49-4ba3-b546-18db3f3c6517",
   "metadata": {
    "execution": {
     "iopub.execute_input": "2024-10-23T04:50:55.488578Z",
     "iopub.status.busy": "2024-10-23T04:50:55.488251Z",
     "iopub.status.idle": "2024-10-23T04:50:57.148416Z",
     "shell.execute_reply": "2024-10-23T04:50:57.147909Z",
     "shell.execute_reply.started": "2024-10-23T04:50:55.488557Z"
    },
    "tags": []
   },
   "outputs": [],
   "source": [
    "device = torch.device(\"cuda\" if torch.cuda.is_available() else \"cpu\")\n",
    "model = model.to(device)"
   ]
  },
  {
   "cell_type": "code",
   "execution_count": 6,
   "id": "fd38c952-caf3-4527-97f4-b49f281ab815",
   "metadata": {
    "execution": {
     "iopub.execute_input": "2024-10-23T04:50:57.293659Z",
     "iopub.status.busy": "2024-10-23T04:50:57.293390Z",
     "iopub.status.idle": "2024-10-23T04:50:57.296969Z",
     "shell.execute_reply": "2024-10-23T04:50:57.296561Z",
     "shell.execute_reply.started": "2024-10-23T04:50:57.293641Z"
    },
    "tags": []
   },
   "outputs": [],
   "source": [
    "criterion = nn.CrossEntropyLoss()\n",
    "optimizer = optim.Adam(model.parameters(), lr=0.0001)"
   ]
  },
  {
   "cell_type": "code",
   "execution_count": 7,
   "id": "776d4d32-70a4-4f05-a1a7-c49b48a2817f",
   "metadata": {
    "execution": {
     "iopub.execute_input": "2024-10-23T04:51:00.727027Z",
     "iopub.status.busy": "2024-10-23T04:51:00.726725Z",
     "iopub.status.idle": "2024-10-23T04:51:00.733006Z",
     "shell.execute_reply": "2024-10-23T04:51:00.732581Z",
     "shell.execute_reply.started": "2024-10-23T04:51:00.727007Z"
    },
    "tags": []
   },
   "outputs": [],
   "source": [
    "def train_model(model, train_loader, criterion, optimizer, device, num_epochs=10):\n",
    "    model.train()\n",
    "    for epoch in range(num_epochs):\n",
    "        running_loss = 0.0\n",
    "        for i, (images, labels) in enumerate(train_loader):\n",
    "            images, labels = images.to(device), labels.to(device)\n",
    "            \n",
    "            # 前向传播\n",
    "            outputs = model(images)\n",
    "            loss = criterion(outputs, labels)\n",
    "            \n",
    "            # 反向传播和优化\n",
    "            optimizer.zero_grad()\n",
    "            loss.backward()\n",
    "            optimizer.step()\n",
    "            \n",
    "            running_loss += loss.item()\n",
    "            \n",
    "            if (i + 1) % 100 == 0:\n",
    "                print(f'Epoch [{epoch+1}/{num_epochs}], Step [{i+1}/{len(train_loader)}], Loss: {loss.item():.4f}')\n",
    "            \n",
    "        \n",
    "        print(f\"Epoch [{epoch+1}/{num_epochs}], Loss: {running_loss/len(train_loader):.4f}\")\n",
    "        test_model(model, test_loader, device)\n",
    "        model.train()\n",
    "\n",
    "def test_model(model, test_loader, device):\n",
    "    model.eval()\n",
    "    correct = 0\n",
    "    total = 0\n",
    "    with torch.no_grad():\n",
    "        for images, labels in test_loader:\n",
    "            images, labels = images.to(device), labels.to(device)\n",
    "            outputs = model(images)\n",
    "            _, predicted = torch.max(outputs.data, 1)\n",
    "            total += labels.size(0)\n",
    "            correct += (predicted == labels).sum().item()\n",
    "\n",
    "    accuracy = 100 * correct / total\n",
    "    print(f'Test Accuracy: {accuracy:.2f}%')"
   ]
  },
  {
   "cell_type": "code",
   "execution_count": 8,
   "id": "4dedd9e2-73a0-4599-af47-aac24ca9e4cb",
   "metadata": {
    "execution": {
     "iopub.execute_input": "2024-10-23T04:51:03.724933Z",
     "iopub.status.busy": "2024-10-23T04:51:03.724602Z",
     "iopub.status.idle": "2024-10-23T07:24:23.831915Z",
     "shell.execute_reply": "2024-10-23T07:24:23.831345Z",
     "shell.execute_reply.started": "2024-10-23T04:51:03.724915Z"
    },
    "tags": []
   },
   "outputs": [
    {
     "name": "stdout",
     "output_type": "stream",
     "text": [
      "Epoch [1/50], Step [100/196], Loss: 1.7847\n",
      "Epoch [1/50], Loss: 1.7836\n",
      "Test Accuracy: 41.20%\n",
      "Epoch [2/50], Step [100/196], Loss: 1.4519\n",
      "Epoch [2/50], Loss: 1.4725\n",
      "Test Accuracy: 49.98%\n",
      "Epoch [3/50], Step [100/196], Loss: 1.2814\n",
      "Epoch [3/50], Loss: 1.2876\n",
      "Test Accuracy: 54.87%\n",
      "Epoch [4/50], Step [100/196], Loss: 1.2312\n",
      "Epoch [4/50], Loss: 1.1620\n",
      "Test Accuracy: 56.74%\n",
      "Epoch [5/50], Step [100/196], Loss: 1.1016\n",
      "Epoch [5/50], Loss: 1.0903\n",
      "Test Accuracy: 58.35%\n",
      "Epoch [6/50], Step [100/196], Loss: 0.9521\n",
      "Epoch [6/50], Loss: 0.9960\n",
      "Test Accuracy: 62.79%\n",
      "Epoch [7/50], Step [100/196], Loss: 0.9713\n",
      "Epoch [7/50], Loss: 0.9259\n",
      "Test Accuracy: 63.02%\n",
      "Epoch [8/50], Step [100/196], Loss: 0.8931\n",
      "Epoch [8/50], Loss: 0.8631\n",
      "Test Accuracy: 65.05%\n",
      "Epoch [9/50], Step [100/196], Loss: 0.7977\n",
      "Epoch [9/50], Loss: 0.8016\n",
      "Test Accuracy: 65.92%\n",
      "Epoch [10/50], Step [100/196], Loss: 0.7585\n",
      "Epoch [10/50], Loss: 0.7419\n",
      "Test Accuracy: 67.73%\n",
      "Epoch [11/50], Step [100/196], Loss: 0.7113\n",
      "Epoch [11/50], Loss: 0.7021\n",
      "Test Accuracy: 69.35%\n",
      "Epoch [12/50], Step [100/196], Loss: 0.6258\n",
      "Epoch [12/50], Loss: 0.6534\n",
      "Test Accuracy: 70.25%\n",
      "Epoch [13/50], Step [100/196], Loss: 0.5528\n",
      "Epoch [13/50], Loss: 0.5878\n",
      "Test Accuracy: 69.37%\n",
      "Epoch [14/50], Step [100/196], Loss: 0.5078\n",
      "Epoch [14/50], Loss: 0.5536\n",
      "Test Accuracy: 70.10%\n",
      "Epoch [15/50], Step [100/196], Loss: 0.5299\n",
      "Epoch [15/50], Loss: 0.4961\n",
      "Test Accuracy: 71.91%\n",
      "Epoch [16/50], Step [100/196], Loss: 0.5145\n",
      "Epoch [16/50], Loss: 0.4521\n",
      "Test Accuracy: 70.25%\n",
      "Epoch [17/50], Step [100/196], Loss: 0.3705\n",
      "Epoch [17/50], Loss: 0.4044\n",
      "Test Accuracy: 68.57%\n",
      "Epoch [18/50], Step [100/196], Loss: 0.3297\n",
      "Epoch [18/50], Loss: 0.3620\n",
      "Test Accuracy: 71.12%\n",
      "Epoch [19/50], Step [100/196], Loss: 0.3186\n",
      "Epoch [19/50], Loss: 0.3277\n",
      "Test Accuracy: 71.28%\n",
      "Epoch [20/50], Step [100/196], Loss: 0.2316\n",
      "Epoch [20/50], Loss: 0.2880\n",
      "Test Accuracy: 71.65%\n",
      "Epoch [21/50], Step [100/196], Loss: 0.3574\n",
      "Epoch [21/50], Loss: 0.2516\n",
      "Test Accuracy: 70.46%\n",
      "Epoch [22/50], Step [100/196], Loss: 0.1513\n",
      "Epoch [22/50], Loss: 0.2259\n",
      "Test Accuracy: 71.70%\n",
      "Epoch [23/50], Step [100/196], Loss: 0.1900\n",
      "Epoch [23/50], Loss: 0.1935\n",
      "Test Accuracy: 71.35%\n",
      "Epoch [24/50], Step [100/196], Loss: 0.1311\n",
      "Epoch [24/50], Loss: 0.1654\n",
      "Test Accuracy: 70.78%\n",
      "Epoch [25/50], Step [100/196], Loss: 0.1443\n",
      "Epoch [25/50], Loss: 0.1611\n",
      "Test Accuracy: 71.14%\n",
      "Epoch [26/50], Step [100/196], Loss: 0.2297\n",
      "Epoch [26/50], Loss: 0.1534\n",
      "Test Accuracy: 70.89%\n",
      "Epoch [27/50], Step [100/196], Loss: 0.1360\n",
      "Epoch [27/50], Loss: 0.1267\n",
      "Test Accuracy: 71.84%\n",
      "Epoch [28/50], Step [100/196], Loss: 0.0939\n",
      "Epoch [28/50], Loss: 0.1168\n",
      "Test Accuracy: 71.78%\n",
      "Epoch [29/50], Step [100/196], Loss: 0.0616\n",
      "Epoch [29/50], Loss: 0.1127\n",
      "Test Accuracy: 71.73%\n",
      "Epoch [30/50], Step [100/196], Loss: 0.0617\n",
      "Epoch [30/50], Loss: 0.0942\n",
      "Test Accuracy: 70.93%\n",
      "Epoch [31/50], Step [100/196], Loss: 0.0775\n",
      "Epoch [31/50], Loss: 0.0994\n",
      "Test Accuracy: 70.47%\n",
      "Epoch [32/50], Step [100/196], Loss: 0.0399\n",
      "Epoch [32/50], Loss: 0.0813\n",
      "Test Accuracy: 71.58%\n",
      "Epoch [33/50], Step [100/196], Loss: 0.1247\n",
      "Epoch [33/50], Loss: 0.0856\n",
      "Test Accuracy: 70.69%\n",
      "Epoch [34/50], Step [100/196], Loss: 0.0815\n",
      "Epoch [34/50], Loss: 0.0969\n",
      "Test Accuracy: 71.44%\n",
      "Epoch [35/50], Step [100/196], Loss: 0.0548\n",
      "Epoch [35/50], Loss: 0.0614\n",
      "Test Accuracy: 72.91%\n",
      "Epoch [36/50], Step [100/196], Loss: 0.0571\n",
      "Epoch [36/50], Loss: 0.0689\n",
      "Test Accuracy: 72.17%\n",
      "Epoch [37/50], Step [100/196], Loss: 0.1169\n",
      "Epoch [37/50], Loss: 0.0714\n",
      "Test Accuracy: 71.47%\n",
      "Epoch [38/50], Step [100/196], Loss: 0.1100\n",
      "Epoch [38/50], Loss: 0.0737\n",
      "Test Accuracy: 72.16%\n",
      "Epoch [39/50], Step [100/196], Loss: 0.0410\n",
      "Epoch [39/50], Loss: 0.0623\n",
      "Test Accuracy: 71.67%\n",
      "Epoch [40/50], Step [100/196], Loss: 0.0472\n",
      "Epoch [40/50], Loss: 0.0650\n",
      "Test Accuracy: 72.08%\n",
      "Epoch [41/50], Step [100/196], Loss: 0.0364\n",
      "Epoch [41/50], Loss: 0.0589\n",
      "Test Accuracy: 71.85%\n",
      "Epoch [42/50], Step [100/196], Loss: 0.0396\n",
      "Epoch [42/50], Loss: 0.0576\n",
      "Test Accuracy: 72.60%\n",
      "Epoch [43/50], Step [100/196], Loss: 0.0579\n",
      "Epoch [43/50], Loss: 0.0567\n",
      "Test Accuracy: 71.84%\n",
      "Epoch [44/50], Step [100/196], Loss: 0.0492\n",
      "Epoch [44/50], Loss: 0.0674\n",
      "Test Accuracy: 71.98%\n",
      "Epoch [45/50], Step [100/196], Loss: 0.0180\n",
      "Epoch [45/50], Loss: 0.0492\n",
      "Test Accuracy: 72.41%\n",
      "Epoch [46/50], Step [100/196], Loss: 0.0621\n",
      "Epoch [46/50], Loss: 0.0491\n",
      "Test Accuracy: 71.54%\n",
      "Epoch [47/50], Step [100/196], Loss: 0.0310\n",
      "Epoch [47/50], Loss: 0.0600\n",
      "Test Accuracy: 72.43%\n",
      "Epoch [48/50], Step [100/196], Loss: 0.0392\n",
      "Epoch [48/50], Loss: 0.0522\n",
      "Test Accuracy: 72.75%\n",
      "Epoch [49/50], Step [100/196], Loss: 0.0472\n",
      "Epoch [49/50], Loss: 0.0509\n",
      "Test Accuracy: 72.48%\n",
      "Epoch [50/50], Step [100/196], Loss: 0.0578\n",
      "Epoch [50/50], Loss: 0.0473\n",
      "Test Accuracy: 72.75%\n",
      "Training time for ViT: 9200.10 seconds\n"
     ]
    }
   ],
   "source": [
    "import time\n",
    "start_time = time.time()\n",
    "train_model(model, train_loader, criterion, optimizer, device, num_epochs=50)\n",
    "end_time = time.time()\n",
    "print(f\"Training time for ViT: {end_time - start_time:.2f} seconds\")"
   ]
  }
 ],
 "metadata": {
  "kernelspec": {
   "display_name": "Python 3 (ipykernel)",
   "language": "python",
   "name": "python3"
  },
  "language_info": {
   "codemirror_mode": {
    "name": "ipython",
    "version": 3
   },
   "file_extension": ".py",
   "mimetype": "text/x-python",
   "name": "python",
   "nbconvert_exporter": "python",
   "pygments_lexer": "ipython3",
   "version": "3.11.9"
  }
 },
 "nbformat": 4,
 "nbformat_minor": 5
}
